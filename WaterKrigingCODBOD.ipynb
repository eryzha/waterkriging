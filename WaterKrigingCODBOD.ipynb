{
  "nbformat": 4,
  "nbformat_minor": 0,
  "metadata": {
    "colab": {
      "provenance": []
    },
    "kernelspec": {
      "name": "python3",
      "display_name": "Python 3"
    },
    "language_info": {
      "name": "python"
    }
  },
  "cells": [
    {
      "cell_type": "code",
      "execution_count": 2,
      "metadata": {
        "colab": {
          "base_uri": "https://localhost:8080/"
        },
        "id": "tgilKLO4tmNi",
        "outputId": "38ade0b8-20ac-4611-f26e-2040a348e378"
      },
      "outputs": [
        {
          "output_type": "stream",
          "name": "stdout",
          "text": [
            "Requirement already satisfied: pandas in /usr/local/lib/python3.10/dist-packages (2.2.2)\n",
            "Requirement already satisfied: numpy in /usr/local/lib/python3.10/dist-packages (1.26.4)\n",
            "Collecting pykrige\n",
            "  Downloading PyKrige-1.7.2-cp310-cp310-manylinux_2_17_x86_64.manylinux2014_x86_64.whl.metadata (8.1 kB)\n",
            "Requirement already satisfied: scikit-learn in /usr/local/lib/python3.10/dist-packages (1.5.2)\n",
            "Requirement already satisfied: python-dateutil>=2.8.2 in /usr/local/lib/python3.10/dist-packages (from pandas) (2.8.2)\n",
            "Requirement already satisfied: pytz>=2020.1 in /usr/local/lib/python3.10/dist-packages (from pandas) (2024.2)\n",
            "Requirement already satisfied: tzdata>=2022.7 in /usr/local/lib/python3.10/dist-packages (from pandas) (2024.2)\n",
            "Requirement already satisfied: scipy<2,>=1.1.0 in /usr/local/lib/python3.10/dist-packages (from pykrige) (1.13.1)\n",
            "Requirement already satisfied: joblib>=1.2.0 in /usr/local/lib/python3.10/dist-packages (from scikit-learn) (1.4.2)\n",
            "Requirement already satisfied: threadpoolctl>=3.1.0 in /usr/local/lib/python3.10/dist-packages (from scikit-learn) (3.5.0)\n",
            "Requirement already satisfied: six>=1.5 in /usr/local/lib/python3.10/dist-packages (from python-dateutil>=2.8.2->pandas) (1.16.0)\n",
            "Downloading PyKrige-1.7.2-cp310-cp310-manylinux_2_17_x86_64.manylinux2014_x86_64.whl (909 kB)\n",
            "\u001b[2K   \u001b[90m━━━━━━━━━━━━━━━━━━━━━━━━━━━━━━━━━━━━━━━━\u001b[0m \u001b[32m909.7/909.7 kB\u001b[0m \u001b[31m17.0 MB/s\u001b[0m eta \u001b[36m0:00:00\u001b[0m\n",
            "\u001b[?25hInstalling collected packages: pykrige\n",
            "Successfully installed pykrige-1.7.2\n"
          ]
        }
      ],
      "source": [
        "pip install pandas numpy pykrige scikit-learn"
      ]
    },
    {
      "cell_type": "code",
      "source": [
        "import numpy as np\n",
        "import pandas as pd\n",
        "from pykrige.ok import OrdinaryKriging\n",
        "from sklearn.preprocessing import StandardScaler\n",
        "import matplotlib.pyplot as plt"
      ],
      "metadata": {
        "id": "Yp72hSNbumlH"
      },
      "execution_count": 3,
      "outputs": []
    },
    {
      "cell_type": "code",
      "source": [
        "# Membaca dataset\n",
        "data = pd.read_csv('/content/Data Training (3).csv')\n"
      ],
      "metadata": {
        "id": "7QiE0Qf2uq7t"
      },
      "execution_count": 58,
      "outputs": []
    },
    {
      "cell_type": "code",
      "source": [
        "# Menampilkan beberapa baris pertama untuk melihat struktur data\n",
        "print(data.head())"
      ],
      "metadata": {
        "id": "4ZmBsZpdvxFB",
        "outputId": "20b64ddb-e52c-4843-f28a-96174492de2c",
        "colab": {
          "base_uri": "https://localhost:8080/"
        }
      },
      "execution_count": 59,
      "outputs": [
        {
          "output_type": "stream",
          "name": "stdout",
          "text": [
            "   longitude  latitute  COD2023  COD2024  BOD2023  BOD2024\n",
            "0    110.379    -7.953       14      317        2        1\n",
            "1    110.366    -7.935        9        9        2        2\n",
            "2    110.385    -7.898       10       16        3        9\n",
            "3    110.414    -7.869        9      166        2       47\n",
            "4    110.444    -7.842       25       54        3       26\n"
          ]
        }
      ]
    },
    {
      "cell_type": "code",
      "source": [
        "# Menyimpan fitur dan target\n",
        "X = data[['latitute', 'longitude']]  # Lokasi\n",
        "y = data[['COD2023', 'COD2024', 'BOD2023', 'BOD2024']]  # Kualitas air"
      ],
      "metadata": {
        "id": "vdsJyH2DwDzD"
      },
      "execution_count": 60,
      "outputs": []
    },
    {
      "cell_type": "code",
      "source": [
        "scaler = StandardScaler()\n",
        "y_scaled = scaler.fit_transform(y)"
      ],
      "metadata": {
        "id": "FibTt8a5w6oi"
      },
      "execution_count": 61,
      "outputs": []
    },
    {
      "cell_type": "code",
      "source": [
        "def fit_kriging_model(X, y, parameter):\n",
        "    OK = OrdinaryKriging(\n",
        "        X['longitude'], X['latitute'], y[parameter],\n",
        "        variogram_model='spherical', verbose=True, enable_plotting=False\n",
        "    )\n",
        "    return OK"
      ],
      "metadata": {
        "id": "F-h6WYZlw98X"
      },
      "execution_count": 62,
      "outputs": []
    },
    {
      "cell_type": "code",
      "source": [
        "# Membuat model Kriging untuk setiap parameter\n",
        "kriging_models = {}\n",
        "parameters = ['COD2023', 'COD2024', 'BOD2023', 'BOD2024']"
      ],
      "metadata": {
        "id": "R2ETlVfAzBnl"
      },
      "execution_count": 63,
      "outputs": []
    },
    {
      "cell_type": "code",
      "source": [
        "for param in parameters:\n",
        "    kriging_models[param] = fit_kriging_model(X, data, param)"
      ],
      "metadata": {
        "id": "mAl0ByXY4nY7",
        "outputId": "41fb1f0e-c2e6-4ad2-ce26-d7f19398f931",
        "colab": {
          "base_uri": "https://localhost:8080/"
        }
      },
      "execution_count": 64,
      "outputs": [
        {
          "output_type": "stream",
          "name": "stdout",
          "text": [
            "Adjusting data for anisotropy...\n",
            "Initializing variogram model...\n",
            "Coordinates type: 'euclidean' \n",
            "\n",
            "Using 'spherical' Variogram Model\n",
            "Partial Sill: 29.51241427676091\n",
            "Full Sill: 44.45348662235313\n",
            "Range: 0.09423108757063858\n",
            "Nugget: 14.941072345592223 \n",
            "\n",
            "Calculating statistics on variogram model fit...\n",
            "Adjusting data for anisotropy...\n",
            "Initializing variogram model...\n",
            "Coordinates type: 'euclidean' \n",
            "\n",
            "Using 'spherical' Variogram Model\n",
            "Partial Sill: 20323.9259923779\n",
            "Full Sill: 20323.92599237843\n",
            "Range: 0.15682147855494805\n",
            "Nugget: 5.321176819010902e-10 \n",
            "\n",
            "Calculating statistics on variogram model fit...\n",
            "Adjusting data for anisotropy...\n",
            "Initializing variogram model...\n",
            "Coordinates type: 'euclidean' \n",
            "\n",
            "Using 'spherical' Variogram Model\n",
            "Partial Sill: 0.4094549426792638\n",
            "Full Sill: 0.7728073846220453\n",
            "Range: 0.012682977237795198\n",
            "Nugget: 0.3633524419427815 \n",
            "\n",
            "Calculating statistics on variogram model fit...\n",
            "Adjusting data for anisotropy...\n",
            "Initializing variogram model...\n",
            "Coordinates type: 'euclidean' \n",
            "\n",
            "Using 'spherical' Variogram Model\n",
            "Partial Sill: 620.8221324485121\n",
            "Full Sill: 674.725177751535\n",
            "Range: 0.01963167896988998\n",
            "Nugget: 53.90304530302302 \n",
            "\n",
            "Calculating statistics on variogram model fit...\n"
          ]
        }
      ]
    },
    {
      "cell_type": "code",
      "source": [
        "print(data.dtypes)"
      ],
      "metadata": {
        "id": "cTNqqX374zvE",
        "outputId": "09b221b4-d2e9-4cb6-f591-8420a7efb35c",
        "colab": {
          "base_uri": "https://localhost:8080/"
        }
      },
      "execution_count": 54,
      "outputs": [
        {
          "output_type": "stream",
          "name": "stdout",
          "text": [
            "longitude    object\n",
            "latitute     object\n",
            "COD2023       int64\n",
            "COD2024       int64\n",
            "BOD2023       int64\n",
            "BOD2024       int64\n",
            "dtype: object\n"
          ]
        }
      ]
    },
    {
      "cell_type": "code",
      "source": [
        "def predict_quality(latitude, longitude):\n",
        "    predicted_values = {}\n",
        "    for param in parameters:\n",
        "        z, ss = kriging_models[param].execute('points', [longitude], [latitude])\n",
        "        predicted_values[param] = z[0]  # Ambil nilai prediksi\n",
        "\n",
        "    # Mengembalikan nilai yang diprediksi\n",
        "    return predicted_values\n",
        "\n",
        "# Contoh penggunaan\n",
        "latitude_input = -6.1751\n",
        "longitude_input = 106.8650\n",
        "\n",
        "predicted_quality = predict_quality(latitude_input, longitude_input)\n",
        "print(predicted_quality)\n"
      ],
      "metadata": {
        "id": "EhJ64FrB45Cf",
        "outputId": "c4129549-cb62-4af4-bb11-78b505e946a5",
        "colab": {
          "base_uri": "https://localhost:8080/"
        }
      },
      "execution_count": 65,
      "outputs": [
        {
          "output_type": "stream",
          "name": "stdout",
          "text": [
            "Executing Ordinary Kriging...\n",
            "\n",
            "Executing Ordinary Kriging...\n",
            "\n",
            "Executing Ordinary Kriging...\n",
            "\n",
            "Executing Ordinary Kriging...\n",
            "\n",
            "{'COD2023': 9.125874833392912, 'COD2024': 93.86013454929483, 'BOD2023': 1.8180793393385717, 'BOD2024': 18.173574912244067}\n"
          ]
        }
      ]
    },
    {
      "cell_type": "code",
      "source": [
        "def fit_kriging_model(X, y, parameter):\n",
        "    OK = OrdinaryKriging(\n",
        "        X['longitude'], X['latitute'], y[parameter],\n",
        "        variogram_model='spherical', verbose=True, enable_plotting=False\n",
        "    )\n",
        "    return OK\n",
        "\n",
        "# Membuat model Kriging untuk setiap parameter\n",
        "kriging_models = {}\n",
        "parameters = ['COD2023', 'COD2024', 'BOD2023', 'BOD2024']\n",
        "\n",
        "for param in parameters:\n",
        "    kriging_models[param] = fit_kriging_model(data[['latitute', 'longitude']], data, param)\n"
      ],
      "metadata": {
        "id": "rkaytRMp69qa",
        "outputId": "36686aad-66f1-4c4b-deec-9ce2c55fe8f7",
        "colab": {
          "base_uri": "https://localhost:8080/"
        }
      },
      "execution_count": 68,
      "outputs": [
        {
          "output_type": "stream",
          "name": "stdout",
          "text": [
            "Adjusting data for anisotropy...\n",
            "Initializing variogram model...\n",
            "Coordinates type: 'euclidean' \n",
            "\n",
            "Using 'spherical' Variogram Model\n",
            "Partial Sill: 29.51241427676091\n",
            "Full Sill: 44.45348662235313\n",
            "Range: 0.09423108757063858\n",
            "Nugget: 14.941072345592223 \n",
            "\n",
            "Calculating statistics on variogram model fit...\n",
            "Adjusting data for anisotropy...\n",
            "Initializing variogram model...\n",
            "Coordinates type: 'euclidean' \n",
            "\n",
            "Using 'spherical' Variogram Model\n",
            "Partial Sill: 20323.9259923779\n",
            "Full Sill: 20323.92599237843\n",
            "Range: 0.15682147855494805\n",
            "Nugget: 5.321176819010902e-10 \n",
            "\n",
            "Calculating statistics on variogram model fit...\n",
            "Adjusting data for anisotropy...\n",
            "Initializing variogram model...\n",
            "Coordinates type: 'euclidean' \n",
            "\n",
            "Using 'spherical' Variogram Model\n",
            "Partial Sill: 0.4094549426792638\n",
            "Full Sill: 0.7728073846220453\n",
            "Range: 0.012682977237795198\n",
            "Nugget: 0.3633524419427815 \n",
            "\n",
            "Calculating statistics on variogram model fit...\n",
            "Adjusting data for anisotropy...\n",
            "Initializing variogram model...\n",
            "Coordinates type: 'euclidean' \n",
            "\n",
            "Using 'spherical' Variogram Model\n",
            "Partial Sill: 620.8221324485121\n",
            "Full Sill: 674.725177751535\n",
            "Range: 0.01963167896988998\n",
            "Nugget: 53.90304530302302 \n",
            "\n",
            "Calculating statistics on variogram model fit...\n"
          ]
        }
      ]
    },
    {
      "cell_type": "code",
      "source": [
        "def predict_quality(latitude, longitude):\n",
        "    predicted_values = {}\n",
        "    for param in parameters:\n",
        "        # Eksekusi model Kriging\n",
        "        z, ss = kriging_models[param].execute('points', [longitude], [latitude])\n",
        "        predicted_values[param] = z[0]\n",
        "\n",
        "    return predicted_values\n",
        "\n",
        "# Contoh penggunaan\n",
        "latitude_input = -6.1751\n",
        "longitude_input = 106.8650\n",
        "\n",
        "predicted_quality = predict_quality(latitude_input, longitude_input)\n",
        "print(predicted_quality)"
      ],
      "metadata": {
        "id": "Nb3MWLhp60Eg",
        "outputId": "c72f737c-645d-4992-cfdb-a02ea49e8890",
        "colab": {
          "base_uri": "https://localhost:8080/"
        }
      },
      "execution_count": 70,
      "outputs": [
        {
          "output_type": "stream",
          "name": "stdout",
          "text": [
            "Executing Ordinary Kriging...\n",
            "\n",
            "Executing Ordinary Kriging...\n",
            "\n",
            "Executing Ordinary Kriging...\n",
            "\n",
            "Executing Ordinary Kriging...\n",
            "\n",
            "{'COD2023': 9.125874833392912, 'COD2024': 93.86013454929483, 'BOD2023': 1.8180793393385717, 'BOD2024': 18.173574912244067}\n"
          ]
        }
      ]
    },
    {
      "cell_type": "code",
      "source": [
        "latitude_input = -7.942\n",
        "longitude_input = 110.371\n",
        "\n",
        "predicted_quality = predict_quality(latitude_input, longitude_input)\n",
        "print(predicted_quality)"
      ],
      "metadata": {
        "id": "_YdpxL6E_Pat",
        "outputId": "1d8ea1af-ad16-437d-82cc-e09e17c67cbe",
        "colab": {
          "base_uri": "https://localhost:8080/"
        }
      },
      "execution_count": 72,
      "outputs": [
        {
          "output_type": "stream",
          "name": "stdout",
          "text": [
            "Executing Ordinary Kriging...\n",
            "\n",
            "Executing Ordinary Kriging...\n",
            "\n",
            "Executing Ordinary Kriging...\n",
            "\n",
            "Executing Ordinary Kriging...\n",
            "\n",
            "{'COD2023': 10.958039237991455, 'COD2024': 125.48994495367135, 'BOD2023': 1.8314408607100157, 'BOD2024': 10.439967992837763}\n"
          ]
        }
      ]
    }
  ]
}